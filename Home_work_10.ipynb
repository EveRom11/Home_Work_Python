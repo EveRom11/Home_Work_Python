{
  "nbformat": 4,
  "nbformat_minor": 0,
  "metadata": {
    "colab": {
      "provenance": [],
      "authorship_tag": "ABX9TyPKK3vojtY3VNqh4ZJS/Fs6",
      "include_colab_link": true
    },
    "kernelspec": {
      "name": "python3",
      "display_name": "Python 3"
    },
    "language_info": {
      "name": "python"
    }
  },
  "cells": [
    {
      "cell_type": "markdown",
      "metadata": {
        "id": "view-in-github",
        "colab_type": "text"
      },
      "source": [
        "<a href=\"https://colab.research.google.com/github/EveRom11/Home_Work_Python_GB/blob/master/Home_work_10.ipynb\" target=\"_parent\"><img src=\"https://colab.research.google.com/assets/colab-badge.svg\" alt=\"Open In Colab\"/></a>"
      ]
    },
    {
      "cell_type": "code",
      "execution_count": null,
      "metadata": {
        "id": "P-zGrg7Z4bJf"
      },
      "outputs": [],
      "source": [
        "# Задача 44: В ячейке ниже представлен код генерирующий DataFrame, которая состоит всего\n",
        "# из 1 столбца. Ваша задача перевести его в one hot вид. Сможете ли вы это сделать без\n",
        "# get_dummies?\n",
        "# import random\n",
        "# lst = ['robot'] * 10\n",
        "# lst += ['human'] * 10\n",
        "# random.shuffle(lst)\n",
        "# data = pd.DataFrame({'whoAmI':lst})\n",
        "# data.head()\n"
      ]
    },
    {
      "cell_type": "code",
      "source": [
        "import random\n",
        "import pandas as pd"
      ],
      "metadata": {
        "id": "U8M-9LUW4meh"
      },
      "execution_count": 2,
      "outputs": []
    },
    {
      "cell_type": "code",
      "source": [
        "lst = ['robot'] * 10\n",
        "lst += ['human'] * 10\n",
        "random.shuffle(lst)"
      ],
      "metadata": {
        "id": "vGY7pc_e4swp"
      },
      "execution_count": 3,
      "outputs": []
    },
    {
      "cell_type": "code",
      "source": [
        "data = pd.DataFrame({'whoAmI':lst})"
      ],
      "metadata": {
        "id": "ag-FH-3K4w61"
      },
      "execution_count": 77,
      "outputs": []
    },
    {
      "cell_type": "code",
      "source": [
        "data\n"
      ],
      "metadata": {
        "id": "6kHlA6UflBhP"
      },
      "execution_count": null,
      "outputs": []
    },
    {
      "cell_type": "code",
      "source": [
        "data_1=data.copy()"
      ],
      "metadata": {
        "id": "mIm6zwY70G0x"
      },
      "execution_count": 79,
      "outputs": []
    },
    {
      "cell_type": "code",
      "source": [
        "data_1.loc[data_1['whoAmI']=='human', 'whoAmI human']= '1'\n",
        "data_1.loc[data_1['whoAmI']=='robot', 'whoAmI robot']= '1'\n",
        "data_1.loc[data_1['whoAmI'] == 'robot', 'whoAmI human'] = '0'\n",
        "data_1.loc[data_1['whoAmI'] == 'human', 'whoAmI robot'] = '0'"
      ],
      "metadata": {
        "id": "ybORe5tJoSYc"
      },
      "execution_count": 80,
      "outputs": []
    },
    {
      "cell_type": "code",
      "source": [
        "data_1"
      ],
      "metadata": {
        "id": "ZlFNGoRAyCAv"
      },
      "execution_count": null,
      "outputs": []
    },
    {
      "cell_type": "code",
      "source": [
        "data_1.drop('whoAmI',axis=1)"
      ],
      "metadata": {
        "id": "OUOS2zHNoShx"
      },
      "execution_count": null,
      "outputs": []
    }
  ]
}